{
  "nbformat": 4,
  "nbformat_minor": 0,
  "metadata": {
    "colab": {
      "name": "Clothing Image Prediction.ipynb",
      "provenance": []
    },
    "kernelspec": {
      "name": "python3",
      "display_name": "Python 3"
    },
    "language_info": {
      "name": "python"
    },
    "accelerator": "GPU"
  },
  "cells": [
    {
      "cell_type": "code",
      "metadata": {
        "id": "l3qcDcP2capt"
      },
      "source": [
        "import numpy as np\n",
        "from keras.datasets import fashion_mnist\n",
        "\n"
      ],
      "execution_count": 1,
      "outputs": []
    },
    {
      "cell_type": "code",
      "metadata": {
        "colab": {
          "base_uri": "https://localhost:8080/"
        },
        "id": "7WIFUk-5wqTE",
        "outputId": "28d7c847-bb01-4dc4-8df4-02e0e33deebc"
      },
      "source": [
        "(X_train,y_train),(X_test,y_test)=fashion_mnist.load_data()"
      ],
      "execution_count": 2,
      "outputs": [
        {
          "output_type": "stream",
          "text": [
            "Downloading data from https://storage.googleapis.com/tensorflow/tf-keras-datasets/train-labels-idx1-ubyte.gz\n",
            "32768/29515 [=================================] - 0s 0us/step\n",
            "40960/29515 [=========================================] - 0s 0us/step\n",
            "Downloading data from https://storage.googleapis.com/tensorflow/tf-keras-datasets/train-images-idx3-ubyte.gz\n",
            "26427392/26421880 [==============================] - 0s 0us/step\n",
            "26435584/26421880 [==============================] - 0s 0us/step\n",
            "Downloading data from https://storage.googleapis.com/tensorflow/tf-keras-datasets/t10k-labels-idx1-ubyte.gz\n",
            "16384/5148 [===============================================================================================] - 0s 0us/step\n",
            "Downloading data from https://storage.googleapis.com/tensorflow/tf-keras-datasets/t10k-images-idx3-ubyte.gz\n",
            "4423680/4422102 [==============================] - 0s 0us/step\n",
            "4431872/4422102 [==============================] - 0s 0us/step\n"
          ],
          "name": "stdout"
        }
      ]
    },
    {
      "cell_type": "code",
      "metadata": {
        "colab": {
          "base_uri": "https://localhost:8080/"
        },
        "id": "7PEnRhQAAl6w",
        "outputId": "e38e8345-21a9-4819-e12f-3aee92adef49"
      },
      "source": [
        "print (\"Number of samples/observations in training data: \" + str(len(X_train)))"
      ],
      "execution_count": 8,
      "outputs": [
        {
          "output_type": "stream",
          "text": [
            "Number of samples/observations in training data: 60000\n"
          ],
          "name": "stdout"
        }
      ]
    },
    {
      "cell_type": "code",
      "metadata": {
        "colab": {
          "base_uri": "https://localhost:8080/",
          "height": 267
        },
        "id": "s5Ox5tcbw4-h",
        "outputId": "2a66d58a-d32a-48e8-b9b4-8fa0cf1f80c1"
      },
      "source": [
        "import matplotlib.pyplot as plt\n",
        "plt.subplot(231)\n",
        "random_num=np.random.randint(0,len(X_train))\n",
        "plt.imshow(X_train[random_num],cmap=plt.get_cmap('gray'))\n",
        "\n",
        "plt.subplot(232)\n",
        "random_num=np.random.randint(0,len(X_train))\n",
        "plt.imshow(X_train[random_num],cmap=plt.get_cmap('gray'))\n",
        "plt.subplot(233)\n",
        "random_num=np.random.randint(0,len(X_train))\n",
        "plt.imshow(X_train[random_num],cmap=plt.get_cmap('gray'))\n",
        "plt.subplot(234)\n",
        "random_num=np.random.randint(0,len(X_train))\n",
        "plt.imshow(X_train[random_num],cmap=plt.get_cmap('gray'))\n",
        "plt.subplot(235)\n",
        "random_num=np.random.randint(0,len(X_train))\n",
        "plt.imshow(X_train[random_num],cmap=plt.get_cmap('gray'))\n",
        "\n",
        "plt.show()"
      ],
      "execution_count": 3,
      "outputs": [
        {
          "output_type": "display_data",
          "data": {
            "image/png": "[encoded data removed]",
            "text/plain": [
              "<Figure size 432x288 with 5 Axes>"
            ]
          },
          "metadata": {
            "tags": [],
            "needs_background": "light"
          }
        }
      ]
    },
    {
      "cell_type": "code",
      "metadata": {
        "colab": {
          "base_uri": "https://localhost:8080/"
        },
        "id": "KkK-Oc2Ewj2i",
        "outputId": "cc0730e8-cf52-437b-c7da-17cf42484632"
      },
      "source": [
        "import keras\n",
        "from keras.utils import np_utils\n",
        "from keras.models import Sequential\n",
        "from keras.layers import Dense,Dropout,Flatten\n",
        "from keras.layers import Conv2D,MaxPooling2D,BatchNormalization\n",
        "from keras import backend as K\n",
        "Batch_size = 128\n",
        "epochs=100\n",
        "img_rows=X_train[0].shape[0]\n",
        "img_columns=X_train[1].shape[0]\n",
        "X_train=X_train.reshape(X_train.shape[0],img_rows,img_columns,1)\n",
        "X_test=X_test.reshape(X_test.shape[0],img_rows,img_columns,1)\n",
        "input_shape = (img_rows,img_columns,1)\n",
        "X_train = X_train.astype('float32')\n",
        "X_test = X_test.astype('float32')\n",
        "X_train/=255\n",
        "X_test/=255\n",
        "y_train=np_utils.to_categorical(y_train)\n",
        "y_test=np_utils.to_categorical(y_test)\n",
        "num_classes = y_test.shape[1]\n",
        "num_pixels= X_train.shape[1]*X_train.shape[2]\n",
        "model=Sequential()\n",
        "model.add(Conv2D(32,kernel_size=(3,3),activation='relu',input_shape=input_shape))\n",
        "model.add(BatchNormalization())\n",
        "\n",
        "model.add(Conv2D(64,kernel_size=(3,3),activation='relu',input_shape=input_shape))\n",
        "model.add(BatchNormalization())\n",
        "\n",
        "model.add(MaxPooling2D(pool_size=(2,2)))\n",
        "model.add(Dropout(0.25))\n",
        "\n",
        "model.add(Flatten())\n",
        "model.add(Dense(128,activation='relu'))\n",
        "model.add(BatchNormalization())\n",
        "\n",
        "model.add(Dropout(0.5))\n",
        "model.add(Dense(num_classes,activation='softmax'))\n",
        "\n",
        "model.compile(loss='categorical_crossentropy',optimizer=keras.optimizers.Adadelta(),metrics=['accuracy'])\n",
        "\n",
        "print(model.summary())\n",
        "\n",
        "\n",
        "\n"
      ],
      "execution_count": 4,
      "outputs": [
        {
          "output_type": "stream",
          "text": [
            "Model: \"sequential\"\n",
            "_________________________________________________________________\n",
            "Layer (type)                 Output Shape              Param #   \n",
            "=================================================================\n",
            "conv2d (Conv2D)              (None, 26, 26, 32)        320       \n",
            "_________________________________________________________________\n",
            "batch_normalization (BatchNo (None, 26, 26, 32)        128       \n",
            "_________________________________________________________________\n",
            "conv2d_1 (Conv2D)            (None, 24, 24, 64)        18496     \n",
            "_________________________________________________________________\n",
            "batch_normalization_1 (Batch (None, 24, 24, 64)        256       \n",
            "_________________________________________________________________\n",
            "max_pooling2d (MaxPooling2D) (None, 12, 12, 64)        0         \n",
            "_________________________________________________________________\n",
            "dropout (Dropout)            (None, 12, 12, 64)        0         \n",
            "_________________________________________________________________\n",
            "flatten (Flatten)            (None, 9216)              0         \n",
            "_________________________________________________________________\n",
            "dense (Dense)                (None, 128)               1179776   \n",
            "_________________________________________________________________\n",
            "batch_normalization_2 (Batch (None, 128)               512       \n",
            "_________________________________________________________________\n",
            "dropout_1 (Dropout)          (None, 128)               0         \n",
            "_________________________________________________________________\n",
            "dense_1 (Dense)              (None, 10)                1290      \n",
            "=================================================================\n",
            "Total params: 1,200,778\n",
            "Trainable params: 1,200,330\n",
            "Non-trainable params: 448\n",
            "_________________________________________________________________\n",
            "None\n"
          ],
          "name": "stdout"
        }
      ]
    },
    {
      "cell_type": "code",
      "metadata": {
        "colab": {
          "base_uri": "https://localhost:8080/"
        },
        "id": "QHyksb5G-EV8",
        "outputId": "058fa1c0-7297-400d-9ce9-c1eb74f269bf"
      },
      "source": [
        "model_fitting=model.fit(X_train,y_train,batch_size=Batch_size,epochs=epochs,verbose=1,validation_data=(X_test,y_test))\n",
        "score=model.evaluate(X_test,y_test,verbose=0)\n",
        "print('Test_loss',score[0])\n",
        "print('Test_accuracy',score[1])"
      ],
      "execution_count": 6,
      "outputs": [
        {
          "output_type": "stream",
          "text": [
            "Epoch 1/100\n",
            "469/469 [==============================] - 51s 12ms/step - loss: 3.0811 - accuracy: 0.1798 - val_loss: 1.5187 - val_accuracy: 0.4861\n",
            "Epoch 2/100\n",
            "469/469 [==============================] - 5s 10ms/step - loss: 1.6721 - accuracy: 0.4634 - val_loss: 0.8542 - val_accuracy: 0.7037\n",
            "Epoch 3/100\n",
            "469/469 [==============================] - 5s 10ms/step - loss: 1.2825 - accuracy: 0.5852 - val_loss: 0.7380 - val_accuracy: 0.7392\n",
            "Epoch 4/100\n",
            "469/469 [==============================] - 5s 10ms/step - loss: 1.1002 - accuracy: 0.6452 - val_loss: 0.6750 - val_accuracy: 0.7606\n",
            "Epoch 5/100\n",
            "469/469 [==============================] - 5s 10ms/step - loss: 1.0019 - accuracy: 0.6740 - val_loss: 0.6325 - val_accuracy: 0.7727\n",
            "Epoch 6/100\n",
            "469/469 [==============================] - 5s 10ms/step - loss: 0.9226 - accuracy: 0.6983 - val_loss: 0.6029 - val_accuracy: 0.7816\n",
            "Epoch 7/100\n",
            "469/469 [==============================] - 5s 10ms/step - loss: 0.8726 - accuracy: 0.7116 - val_loss: 0.5781 - val_accuracy: 0.7903\n",
            "Epoch 8/100\n",
            "469/469 [==============================] - 5s 10ms/step - loss: 0.8351 - accuracy: 0.7241 - val_loss: 0.5600 - val_accuracy: 0.7979\n",
            "Epoch 9/100\n",
            "469/469 [==============================] - 5s 10ms/step - loss: 0.7951 - accuracy: 0.7335 - val_loss: 0.5429 - val_accuracy: 0.8044\n",
            "Epoch 10/100\n",
            "469/469 [==============================] - 5s 10ms/step - loss: 0.7792 - accuracy: 0.7406 - val_loss: 0.5309 - val_accuracy: 0.8094\n",
            "Epoch 11/100\n",
            "469/469 [==============================] - 5s 10ms/step - loss: 0.7409 - accuracy: 0.7504 - val_loss: 0.5202 - val_accuracy: 0.8120\n",
            "Epoch 12/100\n",
            "469/469 [==============================] - 5s 10ms/step - loss: 0.7370 - accuracy: 0.7521 - val_loss: 0.5090 - val_accuracy: 0.8168\n",
            "Epoch 13/100\n",
            "469/469 [==============================] - 5s 10ms/step - loss: 0.7092 - accuracy: 0.7616 - val_loss: 0.5001 - val_accuracy: 0.8205\n",
            "Epoch 14/100\n",
            "469/469 [==============================] - 5s 10ms/step - loss: 0.6943 - accuracy: 0.7668 - val_loss: 0.4920 - val_accuracy: 0.8231\n",
            "Epoch 15/100\n",
            "469/469 [==============================] - 5s 11ms/step - loss: 0.6837 - accuracy: 0.7695 - val_loss: 0.4838 - val_accuracy: 0.8265\n",
            "Epoch 16/100\n",
            "469/469 [==============================] - 5s 10ms/step - loss: 0.6609 - accuracy: 0.7756 - val_loss: 0.4769 - val_accuracy: 0.8290\n",
            "Epoch 17/100\n",
            "469/469 [==============================] - 5s 10ms/step - loss: 0.6569 - accuracy: 0.7781 - val_loss: 0.4706 - val_accuracy: 0.8317\n",
            "Epoch 18/100\n",
            "469/469 [==============================] - 5s 10ms/step - loss: 0.6475 - accuracy: 0.7791 - val_loss: 0.4650 - val_accuracy: 0.8325\n",
            "Epoch 19/100\n",
            "469/469 [==============================] - 5s 10ms/step - loss: 0.6426 - accuracy: 0.7832 - val_loss: 0.4603 - val_accuracy: 0.8351\n",
            "Epoch 20/100\n",
            "469/469 [==============================] - 5s 10ms/step - loss: 0.6340 - accuracy: 0.7873 - val_loss: 0.4549 - val_accuracy: 0.8381\n",
            "Epoch 21/100\n",
            "469/469 [==============================] - 5s 10ms/step - loss: 0.6153 - accuracy: 0.7914 - val_loss: 0.4499 - val_accuracy: 0.8397\n",
            "Epoch 22/100\n",
            "469/469 [==============================] - 5s 10ms/step - loss: 0.6029 - accuracy: 0.7942 - val_loss: 0.4457 - val_accuracy: 0.8419\n",
            "Epoch 23/100\n",
            "469/469 [==============================] - 5s 10ms/step - loss: 0.6118 - accuracy: 0.7948 - val_loss: 0.4413 - val_accuracy: 0.8438\n",
            "Epoch 24/100\n",
            "469/469 [==============================] - 5s 10ms/step - loss: 0.5886 - accuracy: 0.7992 - val_loss: 0.4376 - val_accuracy: 0.8456\n",
            "Epoch 25/100\n",
            "469/469 [==============================] - 5s 10ms/step - loss: 0.5881 - accuracy: 0.8002 - val_loss: 0.4345 - val_accuracy: 0.8473\n",
            "Epoch 26/100\n",
            "469/469 [==============================] - 5s 10ms/step - loss: 0.5784 - accuracy: 0.8038 - val_loss: 0.4302 - val_accuracy: 0.8481\n",
            "Epoch 27/100\n",
            "469/469 [==============================] - 5s 10ms/step - loss: 0.5772 - accuracy: 0.8036 - val_loss: 0.4269 - val_accuracy: 0.8491\n",
            "Epoch 28/100\n",
            "469/469 [==============================] - 5s 10ms/step - loss: 0.5729 - accuracy: 0.8029 - val_loss: 0.4234 - val_accuracy: 0.8518\n",
            "Epoch 29/100\n",
            "469/469 [==============================] - 5s 10ms/step - loss: 0.5648 - accuracy: 0.8073 - val_loss: 0.4213 - val_accuracy: 0.8521\n",
            "Epoch 30/100\n",
            "469/469 [==============================] - 5s 10ms/step - loss: 0.5547 - accuracy: 0.8104 - val_loss: 0.4185 - val_accuracy: 0.8536\n",
            "Epoch 31/100\n",
            "469/469 [==============================] - 5s 10ms/step - loss: 0.5553 - accuracy: 0.8120 - val_loss: 0.4157 - val_accuracy: 0.8548\n",
            "Epoch 32/100\n",
            "469/469 [==============================] - 5s 10ms/step - loss: 0.5434 - accuracy: 0.8154 - val_loss: 0.4129 - val_accuracy: 0.8556\n",
            "Epoch 33/100\n",
            "469/469 [==============================] - 5s 10ms/step - loss: 0.5389 - accuracy: 0.8176 - val_loss: 0.4111 - val_accuracy: 0.8554\n",
            "Epoch 34/100\n",
            "469/469 [==============================] - 5s 10ms/step - loss: 0.5394 - accuracy: 0.8150 - val_loss: 0.4077 - val_accuracy: 0.8568\n",
            "Epoch 35/100\n",
            "469/469 [==============================] - 5s 10ms/step - loss: 0.5371 - accuracy: 0.8165 - val_loss: 0.4055 - val_accuracy: 0.8579\n",
            "Epoch 36/100\n",
            "469/469 [==============================] - 5s 10ms/step - loss: 0.5346 - accuracy: 0.8162 - val_loss: 0.4033 - val_accuracy: 0.8574\n",
            "Epoch 37/100\n",
            "469/469 [==============================] - 5s 10ms/step - loss: 0.5337 - accuracy: 0.8200 - val_loss: 0.4010 - val_accuracy: 0.8586\n",
            "Epoch 38/100\n",
            "469/469 [==============================] - 5s 10ms/step - loss: 0.5269 - accuracy: 0.8197 - val_loss: 0.3987 - val_accuracy: 0.8596\n",
            "Epoch 39/100\n",
            "469/469 [==============================] - 5s 10ms/step - loss: 0.5188 - accuracy: 0.8228 - val_loss: 0.3964 - val_accuracy: 0.8605\n",
            "Epoch 40/100\n",
            "469/469 [==============================] - 5s 10ms/step - loss: 0.5158 - accuracy: 0.8259 - val_loss: 0.3943 - val_accuracy: 0.8608\n",
            "Epoch 41/100\n",
            "469/469 [==============================] - 5s 10ms/step - loss: 0.5099 - accuracy: 0.8257 - val_loss: 0.3926 - val_accuracy: 0.8607\n",
            "Epoch 42/100\n",
            "469/469 [==============================] - 5s 10ms/step - loss: 0.5061 - accuracy: 0.8263 - val_loss: 0.3917 - val_accuracy: 0.8619\n",
            "Epoch 43/100\n",
            "469/469 [==============================] - 5s 10ms/step - loss: 0.5057 - accuracy: 0.8270 - val_loss: 0.3893 - val_accuracy: 0.8630\n",
            "Epoch 44/100\n",
            "469/469 [==============================] - 5s 10ms/step - loss: 0.4979 - accuracy: 0.8304 - val_loss: 0.3873 - val_accuracy: 0.8637\n",
            "Epoch 45/100\n",
            "469/469 [==============================] - 5s 10ms/step - loss: 0.4966 - accuracy: 0.8307 - val_loss: 0.3856 - val_accuracy: 0.8642\n",
            "Epoch 46/100\n",
            "469/469 [==============================] - 5s 10ms/step - loss: 0.4947 - accuracy: 0.8290 - val_loss: 0.3843 - val_accuracy: 0.8649\n",
            "Epoch 47/100\n",
            "469/469 [==============================] - 5s 10ms/step - loss: 0.4937 - accuracy: 0.8304 - val_loss: 0.3828 - val_accuracy: 0.8655\n",
            "Epoch 48/100\n",
            "469/469 [==============================] - 5s 10ms/step - loss: 0.4815 - accuracy: 0.8342 - val_loss: 0.3812 - val_accuracy: 0.8664\n",
            "Epoch 49/100\n",
            "469/469 [==============================] - 5s 10ms/step - loss: 0.4769 - accuracy: 0.8383 - val_loss: 0.3793 - val_accuracy: 0.8670\n",
            "Epoch 50/100\n",
            "469/469 [==============================] - 5s 10ms/step - loss: 0.4854 - accuracy: 0.8344 - val_loss: 0.3783 - val_accuracy: 0.8670\n",
            "Epoch 51/100\n",
            "469/469 [==============================] - 5s 10ms/step - loss: 0.4749 - accuracy: 0.8369 - val_loss: 0.3761 - val_accuracy: 0.8683\n",
            "Epoch 52/100\n",
            "469/469 [==============================] - 5s 10ms/step - loss: 0.4801 - accuracy: 0.8352 - val_loss: 0.3752 - val_accuracy: 0.8678\n",
            "Epoch 53/100\n",
            "469/469 [==============================] - 5s 10ms/step - loss: 0.4700 - accuracy: 0.8376 - val_loss: 0.3736 - val_accuracy: 0.8681\n",
            "Epoch 54/100\n",
            "469/469 [==============================] - 5s 10ms/step - loss: 0.4755 - accuracy: 0.8373 - val_loss: 0.3719 - val_accuracy: 0.8686\n",
            "Epoch 55/100\n",
            "469/469 [==============================] - 5s 10ms/step - loss: 0.4768 - accuracy: 0.8373 - val_loss: 0.3708 - val_accuracy: 0.8691\n",
            "Epoch 56/100\n",
            "469/469 [==============================] - 5s 10ms/step - loss: 0.4723 - accuracy: 0.8375 - val_loss: 0.3697 - val_accuracy: 0.8698\n",
            "Epoch 57/100\n",
            "469/469 [==============================] - 5s 10ms/step - loss: 0.4664 - accuracy: 0.8416 - val_loss: 0.3684 - val_accuracy: 0.8700\n",
            "Epoch 58/100\n",
            "469/469 [==============================] - 5s 10ms/step - loss: 0.4619 - accuracy: 0.8438 - val_loss: 0.3664 - val_accuracy: 0.8708\n",
            "Epoch 59/100\n",
            "469/469 [==============================] - 5s 10ms/step - loss: 0.4656 - accuracy: 0.8419 - val_loss: 0.3657 - val_accuracy: 0.8705\n",
            "Epoch 60/100\n",
            "469/469 [==============================] - 5s 10ms/step - loss: 0.4557 - accuracy: 0.8448 - val_loss: 0.3645 - val_accuracy: 0.8706\n",
            "Epoch 61/100\n",
            "469/469 [==============================] - 5s 10ms/step - loss: 0.4529 - accuracy: 0.8463 - val_loss: 0.3631 - val_accuracy: 0.8725\n",
            "Epoch 62/100\n",
            "469/469 [==============================] - 5s 10ms/step - loss: 0.4621 - accuracy: 0.8439 - val_loss: 0.3612 - val_accuracy: 0.8729\n",
            "Epoch 63/100\n",
            "469/469 [==============================] - 5s 10ms/step - loss: 0.4500 - accuracy: 0.8451 - val_loss: 0.3605 - val_accuracy: 0.8730\n",
            "Epoch 64/100\n",
            "469/469 [==============================] - 5s 10ms/step - loss: 0.4569 - accuracy: 0.8434 - val_loss: 0.3593 - val_accuracy: 0.8734\n",
            "Epoch 65/100\n",
            "469/469 [==============================] - 5s 10ms/step - loss: 0.4528 - accuracy: 0.8462 - val_loss: 0.3578 - val_accuracy: 0.8743\n",
            "Epoch 66/100\n",
            "469/469 [==============================] - 5s 10ms/step - loss: 0.4530 - accuracy: 0.8445 - val_loss: 0.3575 - val_accuracy: 0.8737\n",
            "Epoch 67/100\n",
            "469/469 [==============================] - 5s 10ms/step - loss: 0.4495 - accuracy: 0.8471 - val_loss: 0.3563 - val_accuracy: 0.8751\n",
            "Epoch 68/100\n",
            "469/469 [==============================] - 5s 10ms/step - loss: 0.4433 - accuracy: 0.8487 - val_loss: 0.3552 - val_accuracy: 0.8754\n",
            "Epoch 69/100\n",
            "469/469 [==============================] - 5s 10ms/step - loss: 0.4520 - accuracy: 0.8474 - val_loss: 0.3540 - val_accuracy: 0.8754\n",
            "Epoch 70/100\n",
            "469/469 [==============================] - 5s 10ms/step - loss: 0.4347 - accuracy: 0.8491 - val_loss: 0.3532 - val_accuracy: 0.8761\n",
            "Epoch 71/100\n",
            "469/469 [==============================] - 5s 10ms/step - loss: 0.4401 - accuracy: 0.8485 - val_loss: 0.3521 - val_accuracy: 0.8770\n",
            "Epoch 72/100\n",
            "469/469 [==============================] - 5s 10ms/step - loss: 0.4362 - accuracy: 0.8494 - val_loss: 0.3510 - val_accuracy: 0.8779\n",
            "Epoch 73/100\n",
            "469/469 [==============================] - 5s 10ms/step - loss: 0.4331 - accuracy: 0.8522 - val_loss: 0.3497 - val_accuracy: 0.8779\n",
            "Epoch 74/100\n",
            "469/469 [==============================] - 5s 10ms/step - loss: 0.4356 - accuracy: 0.8496 - val_loss: 0.3485 - val_accuracy: 0.8781\n",
            "Epoch 75/100\n",
            "469/469 [==============================] - 5s 10ms/step - loss: 0.4300 - accuracy: 0.8534 - val_loss: 0.3476 - val_accuracy: 0.8786\n",
            "Epoch 76/100\n",
            "469/469 [==============================] - 5s 10ms/step - loss: 0.4232 - accuracy: 0.8535 - val_loss: 0.3464 - val_accuracy: 0.8796\n",
            "Epoch 77/100\n",
            "469/469 [==============================] - 5s 10ms/step - loss: 0.4298 - accuracy: 0.8522 - val_loss: 0.3457 - val_accuracy: 0.8798\n",
            "Epoch 78/100\n",
            "469/469 [==============================] - 5s 10ms/step - loss: 0.4298 - accuracy: 0.8511 - val_loss: 0.3448 - val_accuracy: 0.8793\n",
            "Epoch 79/100\n",
            "469/469 [==============================] - 5s 10ms/step - loss: 0.4290 - accuracy: 0.8514 - val_loss: 0.3441 - val_accuracy: 0.8803\n",
            "Epoch 80/100\n",
            "469/469 [==============================] - 5s 10ms/step - loss: 0.4216 - accuracy: 0.8537 - val_loss: 0.3432 - val_accuracy: 0.8812\n",
            "Epoch 81/100\n",
            "469/469 [==============================] - 5s 10ms/step - loss: 0.4272 - accuracy: 0.8548 - val_loss: 0.3427 - val_accuracy: 0.8815\n",
            "Epoch 82/100\n",
            "469/469 [==============================] - 5s 10ms/step - loss: 0.4184 - accuracy: 0.8566 - val_loss: 0.3415 - val_accuracy: 0.8811\n",
            "Epoch 83/100\n",
            "469/469 [==============================] - 5s 10ms/step - loss: 0.4126 - accuracy: 0.8590 - val_loss: 0.3407 - val_accuracy: 0.8815\n",
            "Epoch 84/100\n",
            "469/469 [==============================] - 5s 10ms/step - loss: 0.4165 - accuracy: 0.8564 - val_loss: 0.3402 - val_accuracy: 0.8818\n",
            "Epoch 85/100\n",
            "469/469 [==============================] - 5s 10ms/step - loss: 0.4072 - accuracy: 0.8607 - val_loss: 0.3393 - val_accuracy: 0.8823\n",
            "Epoch 86/100\n",
            "469/469 [==============================] - 5s 10ms/step - loss: 0.4162 - accuracy: 0.8576 - val_loss: 0.3381 - val_accuracy: 0.8826\n",
            "Epoch 87/100\n",
            "469/469 [==============================] - 5s 10ms/step - loss: 0.4196 - accuracy: 0.8570 - val_loss: 0.3375 - val_accuracy: 0.8830\n",
            "Epoch 88/100\n",
            "469/469 [==============================] - 5s 10ms/step - loss: 0.4156 - accuracy: 0.8559 - val_loss: 0.3368 - val_accuracy: 0.8827\n",
            "Epoch 89/100\n",
            "469/469 [==============================] - 5s 10ms/step - loss: 0.4073 - accuracy: 0.8586 - val_loss: 0.3361 - val_accuracy: 0.8830\n",
            "Epoch 90/100\n",
            "469/469 [==============================] - 5s 10ms/step - loss: 0.4056 - accuracy: 0.8611 - val_loss: 0.3351 - val_accuracy: 0.8834\n",
            "Epoch 91/100\n",
            "469/469 [==============================] - 5s 10ms/step - loss: 0.4074 - accuracy: 0.8590 - val_loss: 0.3344 - val_accuracy: 0.8836\n",
            "Epoch 92/100\n",
            "469/469 [==============================] - 5s 10ms/step - loss: 0.4107 - accuracy: 0.8571 - val_loss: 0.3337 - val_accuracy: 0.8837\n",
            "Epoch 93/100\n",
            "469/469 [==============================] - 5s 10ms/step - loss: 0.4073 - accuracy: 0.8604 - val_loss: 0.3330 - val_accuracy: 0.8837\n",
            "Epoch 94/100\n",
            "469/469 [==============================] - 5s 10ms/step - loss: 0.4075 - accuracy: 0.8602 - val_loss: 0.3319 - val_accuracy: 0.8836\n",
            "Epoch 95/100\n",
            "469/469 [==============================] - 5s 10ms/step - loss: 0.4075 - accuracy: 0.8600 - val_loss: 0.3313 - val_accuracy: 0.8840\n",
            "Epoch 96/100\n",
            "469/469 [==============================] - 5s 10ms/step - loss: 0.4035 - accuracy: 0.8614 - val_loss: 0.3308 - val_accuracy: 0.8840\n",
            "Epoch 97/100\n",
            "469/469 [==============================] - 5s 10ms/step - loss: 0.3968 - accuracy: 0.8625 - val_loss: 0.3299 - val_accuracy: 0.8843\n",
            "Epoch 98/100\n",
            "469/469 [==============================] - 5s 10ms/step - loss: 0.3998 - accuracy: 0.8620 - val_loss: 0.3293 - val_accuracy: 0.8847\n",
            "Epoch 99/100\n",
            "469/469 [==============================] - 5s 10ms/step - loss: 0.4000 - accuracy: 0.8619 - val_loss: 0.3290 - val_accuracy: 0.8844\n",
            "Epoch 100/100\n",
            "469/469 [==============================] - 5s 10ms/step - loss: 0.3849 - accuracy: 0.8676 - val_loss: 0.3280 - val_accuracy: 0.8840\n",
            "Test_loss 0.32801204919815063\n",
            "Test_accuracy 0.8840000033378601\n"
          ],
          "name": "stdout"
        }
      ]
    }
  ]
}